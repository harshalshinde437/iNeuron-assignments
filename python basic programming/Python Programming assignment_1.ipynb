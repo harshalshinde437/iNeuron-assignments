{
 "cells": [
  {
   "cell_type": "markdown",
   "id": "3b06e599",
   "metadata": {},
   "source": [
    "## Q.1 Write a Python Program to print \"Hello Python\"?\n",
    "### Ans:"
   ]
  },
  {
   "cell_type": "code",
   "execution_count": 1,
   "id": "a2fe4980",
   "metadata": {},
   "outputs": [
    {
     "name": "stdout",
     "output_type": "stream",
     "text": [
      "Hello Python\n"
     ]
    }
   ],
   "source": [
    "print(\"Hello Python\")"
   ]
  },
  {
   "cell_type": "markdown",
   "id": "58ed8791",
   "metadata": {},
   "source": [
    "## Q.2 Write a Python program to do arithmetical operations Addition and divison.?\n",
    "### Ans:"
   ]
  },
  {
   "cell_type": "code",
   "execution_count": 2,
   "id": "976fa65e",
   "metadata": {},
   "outputs": [
    {
     "name": "stdout",
     "output_type": "stream",
     "text": [
      "Addition of 45 and 12 is: 57\n",
      "Divison of 45 and 12 is: 3.75\n"
     ]
    }
   ],
   "source": [
    "a = 45\n",
    "b = 12\n",
    "\n",
    "print('Addition of {} and {} is: {}'.format(a,b,a+b))\n",
    "print('Divison of {} and {} is: {}'.format(a,b,a/b))"
   ]
  },
  {
   "cell_type": "markdown",
   "id": "df724043",
   "metadata": {},
   "source": [
    "## Q.3 Write a Python program to find the area of triangle?\n",
    "### Ans:"
   ]
  },
  {
   "cell_type": "code",
   "execution_count": 3,
   "id": "3a42cb71",
   "metadata": {},
   "outputs": [
    {
     "name": "stdout",
     "output_type": "stream",
     "text": [
      "Enter a Base of triangle: 2\n",
      "Enter a Height of triangle: 5\n",
      "\n",
      "Area of triangle with Base=2 and height=5 is :5.0\n"
     ]
    }
   ],
   "source": [
    "b = int(input(\"Enter a Base of triangle: \"))\n",
    "h = int(input(\"Enter a Height of triangle: \"))\n",
    "\n",
    "# formula to find area of triangle is 1/2*b*h\n",
    "\n",
    "print(f\"\\nArea of triangle with Base={b} and height={h} is :{1/2*(b*h)}\")"
   ]
  },
  {
   "cell_type": "markdown",
   "id": "c4b02faf",
   "metadata": {},
   "source": [
    "## Q.4 Write a Python program to swap two variables?\n",
    "### Ans:"
   ]
  },
  {
   "cell_type": "code",
   "execution_count": 4,
   "id": "c473f645",
   "metadata": {},
   "outputs": [
    {
     "name": "stdout",
     "output_type": "stream",
     "text": [
      "Value of A:23 and B:34 before swapping..\n",
      "Swapping is done...\n",
      "Value of A:34 and B:23 after swapping..\n"
     ]
    }
   ],
   "source": [
    "a = 23\n",
    "b = 34\n",
    "\n",
    "print(f\"Value of A:{a} and B:{b} before swapping..\")\n",
    "\n",
    "temp = a + b\n",
    "a = temp - a\n",
    "b = temp - b\n",
    "\n",
    "print('Swapping is done...')\n",
    "print(f\"Value of A:{a} and B:{b} after swapping..\")"
   ]
  },
  {
   "cell_type": "markdown",
   "id": "de4d6211",
   "metadata": {},
   "source": [
    "## Q.5 Write a Python Program to generate a random number?\n",
    "### Ans:"
   ]
  },
  {
   "cell_type": "code",
   "execution_count": 9,
   "id": "fdbe16f0",
   "metadata": {},
   "outputs": [
    {
     "name": "stdout",
     "output_type": "stream",
     "text": [
      "Some random numbers are:\n"
     ]
    }
   ],
   "source": [
    "import random\n",
    "l=[]\n",
    "print(\"Some random numbers are:\")\n",
    "for i in range(10):\n",
    "    a = (random.randint(0,110))\n",
    "    l.append"
   ]
  },
  {
   "cell_type": "code",
   "execution_count": null,
   "id": "5a54eb27",
   "metadata": {},
   "outputs": [],
   "source": []
  }
 ],
 "metadata": {
  "kernelspec": {
   "display_name": "Python 3",
   "language": "python",
   "name": "python3"
  },
  "language_info": {
   "codemirror_mode": {
    "name": "ipython",
    "version": 3
   },
   "file_extension": ".py",
   "mimetype": "text/x-python",
   "name": "python",
   "nbconvert_exporter": "python",
   "pygments_lexer": "ipython3",
   "version": "3.7.9"
  }
 },
 "nbformat": 4,
 "nbformat_minor": 5
}
