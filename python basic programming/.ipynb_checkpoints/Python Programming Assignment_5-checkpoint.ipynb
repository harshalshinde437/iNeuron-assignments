{
 "cells": [
  {
   "cell_type": "markdown",
   "id": "ba154dbb",
   "metadata": {},
   "source": [
    "## Q.1 Write a python program to find LCM?\n",
    "### Ans:"
   ]
  },
  {
   "cell_type": "code",
   "execution_count": 1,
   "id": "bd295172",
   "metadata": {},
   "outputs": [
    {
     "name": "stdout",
     "output_type": "stream",
     "text": [
      "Enter 1st Number:36\n",
      "Enter 2nd Number:24\n",
      "\n",
      "LCM of 36 and 24 is 72\n"
     ]
    }
   ],
   "source": [
    "a = int(input('Enter 1st Number:'))\n",
    "b = int(input('Enter 2nd Number:'))\n",
    "\n",
    "maximum = max(a,b)\n",
    "\n",
    "while(True):\n",
    "    if maximum % a == 0 and maximum % b == 0:\n",
    "        print(f'\\nLCM of {a} and {b} is {maximum}')\n",
    "        break;\n",
    "    maximum = maximum + 1"
   ]
  },
  {
   "cell_type": "markdown",
   "id": "884fc0a0",
   "metadata": {},
   "source": [
    "## Q.2 Write a python program to find HCF?\n",
    "### Ans:"
   ]
  },
  {
   "cell_type": "code",
   "execution_count": 2,
   "id": "6b5a08b3",
   "metadata": {},
   "outputs": [
    {
     "name": "stdout",
     "output_type": "stream",
     "text": [
      "Enter 1st Number:54\n",
      "Enter 2nd Number:24\n",
      "\n",
      "HCF of 54 and 24 is 6\n"
     ]
    }
   ],
   "source": [
    "a = int(input('Enter 1st Number:'))\n",
    "b = int(input('Enter 2nd Number:'))\n",
    "\n",
    "minimum = min(a,b)\n",
    "\n",
    "for i in range(1,minimum+1):\n",
    "    if a % i == 0 and b % i == 0:\n",
    "        hcf = i\n",
    "        \n",
    "print(f'\\nHCF of {a} and {b} is {hcf}')"
   ]
  },
  {
   "cell_type": "markdown",
   "id": "0e760c60",
   "metadata": {},
   "source": [
    "## Q.3 Write a python program to convert Decimal to Binary, Octal and Hexadecimal?\n",
    "### Ans:"
   ]
  },
  {
   "cell_type": "code",
   "execution_count": null,
   "id": "d2963056",
   "metadata": {},
   "outputs": [],
   "source": [
    "a = int(input(\"Enter a Number:\"))\n",
    "q = 0\n",
    "r = []\n",
    "\n",
    "        "
   ]
  }
 ],
 "metadata": {
  "kernelspec": {
   "display_name": "Python 3",
   "language": "python",
   "name": "python3"
  },
  "language_info": {
   "codemirror_mode": {
    "name": "ipython",
    "version": 3
   },
   "file_extension": ".py",
   "mimetype": "text/x-python",
   "name": "python",
   "nbconvert_exporter": "python",
   "pygments_lexer": "ipython3",
   "version": "3.7.9"
  }
 },
 "nbformat": 4,
 "nbformat_minor": 5
}
