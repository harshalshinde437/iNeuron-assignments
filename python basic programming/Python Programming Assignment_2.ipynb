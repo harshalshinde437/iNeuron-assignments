{
 "cells": [
  {
   "cell_type": "markdown",
   "id": "270f73be",
   "metadata": {},
   "source": [
    "## Q.1 Write a python program to convert kilometers to miles?\n",
    "### Ans:"
   ]
  },
  {
   "cell_type": "code",
   "execution_count": 1,
   "id": "f6082ed1",
   "metadata": {},
   "outputs": [
    {
     "name": "stdout",
     "output_type": "stream",
     "text": [
      "Enter distance in KM: 160\n",
      "160.0 KM = 99.41936 MILES\n"
     ]
    }
   ],
   "source": [
    "km = float(input(\"Enter distance in KM: \"))\n",
    "print(f\"{km} KM = {km*0.621371} MILES\")\n"
   ]
  },
  {
   "cell_type": "markdown",
   "id": "ebf71c25",
   "metadata": {},
   "source": [
    "## Q.2 Write a python program to convert Celsius to Fahrenheit?\n",
    "### Ans:"
   ]
  },
  {
   "cell_type": "code",
   "execution_count": 2,
   "id": "66511b65",
   "metadata": {},
   "outputs": [
    {
     "name": "stdout",
     "output_type": "stream",
     "text": [
      "Enter temperature in Cesius: 32\n",
      "32.0 Celsius = 89.6 Fahrenheit\n"
     ]
    }
   ],
   "source": [
    "cel = float(input(\"Enter temperature in Cesius: \"))\n",
    "print(f\"{cel} Celsius = {(cel*(9/5))+32} Fahrenheit\")"
   ]
  },
  {
   "cell_type": "markdown",
   "id": "991854e5",
   "metadata": {},
   "source": [
    "## Q.3 Write aa python program to display calender?\n",
    "### Ans:"
   ]
  },
  {
   "cell_type": "code",
   "execution_count": 3,
   "id": "fd038697",
   "metadata": {},
   "outputs": [
    {
     "name": "stdout",
     "output_type": "stream",
     "text": [
      "     June 2021\n",
      "Mo Tu We Th Fr Sa Su\n",
      "    1  2  3  4  5  6\n",
      " 7  8  9 10 11 12 13\n",
      "14 15 16 17 18 19 20\n",
      "21 22 23 24 25 26 27\n",
      "28 29 30\n",
      "\n"
     ]
    }
   ],
   "source": [
    "import calendar\n",
    "y =2021\n",
    "m = 6\n",
    "print(calendar.month(y,m))"
   ]
  },
  {
   "cell_type": "markdown",
   "id": "a3ea95ea",
   "metadata": {},
   "source": [
    "## Q.4 Write a python program to solve quadratic equation?\n",
    "### Ans:"
   ]
  },
  {
   "cell_type": "code",
   "execution_count": 4,
   "id": "095cb90a",
   "metadata": {},
   "outputs": [
    {
     "name": "stdout",
     "output_type": "stream",
     "text": [
      "Enter a: 4\n",
      "Enter b: 6\n",
      "Enter c: 2\n",
      "The solution are (-1+0j) and (-0.5+0j)\n"
     ]
    }
   ],
   "source": [
    "import cmath  \n",
    "a = float(input('Enter a: '))  \n",
    "b = float(input('Enter b: '))  \n",
    "c = float(input('Enter c: '))  \n",
    "  \n",
    " \n",
    "d = (b**2) - (4*a*c)  \n",
    "  \n",
    " \n",
    "sol1 = (-b-cmath.sqrt(d))/(2*a)  \n",
    "sol2 = (-b+cmath.sqrt(d))/(2*a)  \n",
    "print(f'The solution are {sol1} and {sol2}')"
   ]
  },
  {
   "cell_type": "markdown",
   "id": "544460ae",
   "metadata": {},
   "source": [
    "## Q.5 Write a python program to swap two variable without using temp variable?\n",
    "### Ans:"
   ]
  },
  {
   "cell_type": "code",
   "execution_count": 5,
   "id": "d62d3a70",
   "metadata": {},
   "outputs": [
    {
     "name": "stdout",
     "output_type": "stream",
     "text": [
      "Value of A = 23 and B = 42 before swap..\n",
      "\n",
      "Swapping is done..\n",
      "\n",
      "Value of A = 42 and B = 23 after swap..\n"
     ]
    }
   ],
   "source": [
    "A = 23\n",
    "B = 42\n",
    "\n",
    "print(f\"Value of A = {A} and B = {B} before swap..\")\n",
    "A,B = B,A\n",
    "print(\"\\nSwapping is done..\")\n",
    "print(f\"\\nValue of A = {A} and B = {B} after swap..\")"
   ]
  }
 ],
 "metadata": {
  "kernelspec": {
   "display_name": "Python 3",
   "language": "python",
   "name": "python3"
  },
  "language_info": {
   "codemirror_mode": {
    "name": "ipython",
    "version": 3
   },
   "file_extension": ".py",
   "mimetype": "text/x-python",
   "name": "python",
   "nbconvert_exporter": "python",
   "pygments_lexer": "ipython3",
   "version": "3.7.9"
  }
 },
 "nbformat": 4,
 "nbformat_minor": 5
}
