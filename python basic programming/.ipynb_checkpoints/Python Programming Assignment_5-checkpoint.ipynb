{
 "cells": [
  {
   "cell_type": "markdown",
   "id": "8129d02e",
   "metadata": {},
   "source": [
    "## Q.1 Write a python program to find LCM?\n",
    "### Ans:"
   ]
  },
  {
   "cell_type": "code",
   "execution_count": 1,
   "id": "910c66a3",
   "metadata": {},
   "outputs": [
    {
     "name": "stdout",
     "output_type": "stream",
     "text": [
      "Enter 1st Number:23\n",
      "Enter 2nd Number:45\n",
      "\n",
      "LCM of 23 and 45 is 1035\n"
     ]
    }
   ],
   "source": [
    "a = int(input('Enter 1st Number:'))\n",
    "b = int(input('Enter 2nd Number:'))\n",
    "\n",
    "maximum = max(a,b)\n",
    "\n",
    "while(True):\n",
    "    if maximum % a == 0 and maximum % b == 0:\n",
    "        print(f'\\nLCM of {a} and {b} is {maximum}')\n",
    "        break;\n",
    "    maximum = maximum + 1"
   ]
  },
  {
   "cell_type": "markdown",
   "id": "8cefc612",
   "metadata": {},
   "source": [
    "## Q.2 Write a python program to find HCF?\n",
    "### Ans:"
   ]
  },
  {
   "cell_type": "code",
   "execution_count": 2,
   "id": "cac2d257",
   "metadata": {},
   "outputs": [
    {
     "name": "stdout",
     "output_type": "stream",
     "text": [
      "Enter 1st Number:432\n",
      "Enter 2nd Number:123\n",
      "\n",
      "HCF of 432 and 123 is 3\n"
     ]
    }
   ],
   "source": [
    "a = int(input('Enter 1st Number:'))\n",
    "b = int(input('Enter 2nd Number:'))\n",
    "\n",
    "minimum = min(a,b)\n",
    "\n",
    "for i in range(1,minimum+1):\n",
    "    if a % i == 0 and b % i == 0:\n",
    "        hcf = i\n",
    "        \n",
    "print(f'\\nHCF of {a} and {b} is {hcf}')"
   ]
  },
  {
   "cell_type": "markdown",
   "id": "5f69c149",
   "metadata": {},
   "source": [
    "## Q.3 Write a python program to convert Decimal to Binary, Octal and Hexadecimal?\n",
    "### Ans:"
   ]
  },
  {
   "cell_type": "code",
   "execution_count": 3,
   "id": "c8e2c955",
   "metadata": {},
   "outputs": [
    {
     "name": "stdout",
     "output_type": "stream",
     "text": [
      "Enter a Number:350\n",
      "Conversion of 350 in binary is: 101011110\n",
      "Conversion of 350 in Octal is: 536\n",
      "Conversion of 350 in Hexadecimal is: 15e\n"
     ]
    }
   ],
   "source": [
    "num = int(input(\"Enter a Number:\"))\n",
    "\n",
    "print(f'Conversion of {num} in binary is: {num:b}')\n",
    "print(f'Conversion of {num} in Octal is: {num:o}')\n",
    "print(f'Conversion of {num} in Hexadecimal is: {num:x}')"
   ]
  },
  {
   "cell_type": "markdown",
   "id": "5362634e",
   "metadata": {},
   "source": [
    "## Q.4 Write a python program to find ASCII value of character?\n",
    "### Ans:"
   ]
  },
  {
   "cell_type": "code",
   "execution_count": 4,
   "id": "37eb9ea5",
   "metadata": {},
   "outputs": [
    {
     "name": "stdout",
     "output_type": "stream",
     "text": [
      "Enter a character: F\n",
      "ASCII value of \"F\" is: 70\n"
     ]
    }
   ],
   "source": [
    "a = input('Enter a character: ')\n",
    "\n",
    "if len(a)>1:\n",
    "    print(f\"\\nYou entered {len(a)} characters..!\\nPlease enter a Single character..\")\n",
    "else:\n",
    "    print(f'ASCII value of \"{a}\" is: {ord(a)}')\n"
   ]
  },
  {
   "cell_type": "markdown",
   "id": "fe68a023",
   "metadata": {},
   "source": [
    "## Q.5 Write a python program to make a simple calculator with 4 basic mathematical operations\n",
    "### Ans:"
   ]
  },
  {
   "cell_type": "code",
   "execution_count": 5,
   "id": "f10c54c2",
   "metadata": {},
   "outputs": [
    {
     "name": "stdout",
     "output_type": "stream",
     "text": [
      "\n",
      "++++++ Select operation ++++++\n",
      "1. Addition\n",
      "2. Subtraction\n",
      "3. Multiplication\n",
      "4. Division\n",
      "\n",
      "select operation(1/2/3/4):4\n",
      "\n",
      "Enter a first number:122\n",
      "\n",
      "Enter a Second Number:3\n",
      "Division of 122 and 3 is: 40.666666666666664\n"
     ]
    }
   ],
   "source": [
    "t=(1,2,3,4)\n",
    "print(\"\\n++++++ Select operation ++++++\")\n",
    "operation = ['1. Addition','2. Subtraction','3. Multiplication','4. Division']\n",
    "\n",
    "for i in operation:\n",
    "    print(i)\n",
    "\n",
    "while True:\n",
    "    choice= int(input(\"\\nselect operation(1/2/3/4):\"))\n",
    "    if choice in t:\n",
    "        a=int(input(\"\\nEnter a first number:\"))\n",
    "        b=int(input(\"\\nEnter a Second Number:\"))\n",
    "    \n",
    "        if choice == 1:\n",
    "            print(f\"Addition of {a} and {b} is: {a+b}\")\n",
    "        elif choice == 2:\n",
    "            print(f\"Subtraction of {a} and {b} is: {a-b}\")\n",
    "        elif choice == 3:\n",
    "            print(f\"Multiplication of {a} and {b} is: {a*b}\")\n",
    "        elif choice == 4:\n",
    "            print(f\"Division of {a} and {b} is: {a/b}\")\n",
    "        break\n",
    "    else:\n",
    "            print(\"\\nInvalid choice..!!\")"
   ]
  },
  {
   "cell_type": "code",
   "execution_count": null,
   "id": "2445dd9d",
   "metadata": {},
   "outputs": [],
   "source": []
  },
  {
   "cell_type": "code",
   "execution_count": null,
   "id": "3578d250",
   "metadata": {},
   "outputs": [],
   "source": []
  }
 ],
 "metadata": {
  "kernelspec": {
   "display_name": "Python 3",
   "language": "python",
   "name": "python3"
  },
  "language_info": {
   "codemirror_mode": {
    "name": "ipython",
    "version": 3
   },
   "file_extension": ".py",
   "mimetype": "text/x-python",
   "name": "python",
   "nbconvert_exporter": "python",
   "pygments_lexer": "ipython3",
   "version": "3.7.9"
  }
 },
 "nbformat": 4,
 "nbformat_minor": 5
}
