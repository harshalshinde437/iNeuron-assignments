{
 "cells": [
  {
   "cell_type": "markdown",
   "id": "8129d02e",
   "metadata": {},
   "source": [
    "## Q.1 Write a python program to find LCM?\n",
    "### Ans:"
   ]
  },
  {
   "cell_type": "code",
   "execution_count": 1,
   "id": "910c66a3",
   "metadata": {},
   "outputs": [
    {
     "name": "stdout",
     "output_type": "stream",
     "text": [
      "Enter 1st Number:36\n",
      "Enter 2nd Number:24\n",
      "\n",
      "LCM of 36 and 24 is 72\n"
     ]
    }
   ],
   "source": [
    "a = int(input('Enter 1st Number:'))\n",
    "b = int(input('Enter 2nd Number:'))\n",
    "\n",
    "maximum = max(a,b)\n",
    "\n",
    "while(True):\n",
    "    if maximum % a == 0 and maximum % b == 0:\n",
    "        print(f'\\nLCM of {a} and {b} is {maximum}')\n",
    "        break;\n",
    "    maximum = maximum + 1"
   ]
  },
  {
   "cell_type": "markdown",
   "id": "8cefc612",
   "metadata": {},
   "source": [
    "## Q.2 Write a python program to find HCF?\n",
    "### Ans:"
   ]
  },
  {
   "cell_type": "code",
   "execution_count": 2,
   "id": "cac2d257",
   "metadata": {},
   "outputs": [
    {
     "name": "stdout",
     "output_type": "stream",
     "text": [
      "Enter 1st Number:54\n",
      "Enter 2nd Number:24\n",
      "\n",
      "HCF of 54 and 24 is 6\n"
     ]
    }
   ],
   "source": [
    "a = int(input('Enter 1st Number:'))\n",
    "b = int(input('Enter 2nd Number:'))\n",
    "\n",
    "minimum = min(a,b)\n",
    "\n",
    "for i in range(1,minimum+1):\n",
    "    if a % i == 0 and b % i == 0:\n",
    "        hcf = i\n",
    "        \n",
    "print(f'\\nHCF of {a} and {b} is {hcf}')"
   ]
  },
  {
   "cell_type": "markdown",
   "id": "5f69c149",
   "metadata": {},
   "source": [
    "## Q.3 Write a python program to convert Decimal to Binary, Octal and Hexadecimal?\n",
    "### Ans:"
   ]
  },
  {
   "cell_type": "code",
   "execution_count": 6,
   "id": "c8e2c955",
   "metadata": {},
   "outputs": [
    {
     "name": "stdout",
     "output_type": "stream",
     "text": [
      "Enter a Number:344\n",
      "0x158\n"
     ]
    }
   ],
   "source": [
    "a = int(input(\"Enter a Number:\"))\n",
    "print(hex(a))"
   ]
  },
  {
   "cell_type": "code",
   "execution_count": 2,
   "id": "ad0feffa",
   "metadata": {},
   "outputs": [
    {
     "ename": "NameError",
     "evalue": "name 'q' is not defined",
     "output_type": "error",
     "traceback": [
      "\u001b[1;31m---------------------------------------------------------------------------\u001b[0m",
      "\u001b[1;31mNameError\u001b[0m                                 Traceback (most recent call last)",
      "\u001b[1;32m<ipython-input-2-09dff2b606ad>\u001b[0m in \u001b[0;36m<module>\u001b[1;34m\u001b[0m\n\u001b[0;32m      3\u001b[0m     \u001b[0mr\u001b[0m\u001b[1;33m=\u001b[0m\u001b[0mn\u001b[0m\u001b[1;33m%\u001b[0m\u001b[1;36m2\u001b[0m\u001b[1;33m\u001b[0m\u001b[1;33m\u001b[0m\u001b[0m\n\u001b[0;32m      4\u001b[0m     \u001b[0mq\u001b[0m\u001b[1;33m=\u001b[0m\u001b[0mn\u001b[0m\u001b[1;33m/\u001b[0m\u001b[1;36m2\u001b[0m\u001b[1;33m\u001b[0m\u001b[1;33m\u001b[0m\u001b[0m\n\u001b[1;32m----> 5\u001b[1;33m \u001b[0mprint\u001b[0m\u001b[1;33m(\u001b[0m\u001b[0mq\u001b[0m\u001b[1;33m)\u001b[0m\u001b[1;33m\u001b[0m\u001b[1;33m\u001b[0m\u001b[0m\n\u001b[0m",
      "\u001b[1;31mNameError\u001b[0m: name 'q' is not defined"
     ]
    }
   ],
   "source": [
    "n=37\n",
    "for i in range(n/2==0):\n",
    "    r=n%2\n",
    "    q=n/2\n",
    "    print(q)"
   ]
  },
  {
   "cell_type": "code",
   "execution_count": 13,
   "id": "603d8885",
   "metadata": {},
   "outputs": [],
   "source": [
    "n=37\n",
    "r=[]\n",
    "while q==0:\n",
    "    r.append(n%2)\n",
    "    q = n/2\n",
    "    print(q)\n",
    "    if q == 0:\n",
    "        break"
   ]
  },
  {
   "cell_type": "code",
   "execution_count": null,
   "id": "37eb9ea5",
   "metadata": {},
   "outputs": [],
   "source": [
    "n = 37\n",
    "r=[]\n",
    "\n",
    "for i in range(n):\n",
    "    if n/2 =\n"
   ]
  },
  {
   "cell_type": "code",
   "execution_count": null,
   "id": "cba0b93b",
   "metadata": {},
   "outputs": [],
   "source": []
  },
  {
   "cell_type": "code",
   "execution_count": null,
   "id": "f10c54c2",
   "metadata": {},
   "outputs": [],
   "source": []
  }
 ],
 "metadata": {
  "kernelspec": {
   "display_name": "Python 3",
   "language": "python",
   "name": "python3"
  },
  "language_info": {
   "codemirror_mode": {
    "name": "ipython",
    "version": 3
   },
   "file_extension": ".py",
   "mimetype": "text/x-python",
   "name": "python",
   "nbconvert_exporter": "python",
   "pygments_lexer": "ipython3",
   "version": "3.7.9"
  }
 },
 "nbformat": 4,
 "nbformat_minor": 5
}
