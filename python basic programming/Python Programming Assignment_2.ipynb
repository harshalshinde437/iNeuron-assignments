{
 "cells": [
  {
   "cell_type": "markdown",
   "id": "270f73be",
   "metadata": {},
   "source": [
    "## Q.1 Write a python program to convert kilometers to miles?\n",
    "### Ans:"
   ]
  },
  {
   "cell_type": "code",
   "execution_count": null,
   "id": "f6082ed1",
   "metadata": {},
   "outputs": [],
   "source": [
    "km = float(input(\"Enter distance in KM: \"))\n",
    "print(f\"{km} KM = {km*0.621371} MILES\")\n"
   ]
  },
  {
   "cell_type": "markdown",
   "id": "ebf71c25",
   "metadata": {},
   "source": [
    "## Q.2 Write a python program to convert Celsius to Fahrenheit?\n",
    "### Ans:"
   ]
  },
  {
   "cell_type": "code",
   "execution_count": null,
   "id": "66511b65",
   "metadata": {},
   "outputs": [],
   "source": [
    "cel = float(input(\"Enter temperature in Cesius: \"))\n",
    "print(f\"{cel} Celsius = {(cel*(9/5))+32} Fahrenheit\")"
   ]
  },
  {
   "cell_type": "markdown",
   "id": "991854e5",
   "metadata": {},
   "source": [
    "## Q.3 Write aa python program to display calender?\n",
    "### Ans:"
   ]
  },
  {
   "cell_type": "code",
   "execution_count": null,
   "id": "fd038697",
   "metadata": {},
   "outputs": [],
   "source": [
    "import calendar\n",
    "y =2021\n",
    "m = 6\n",
    "print(calendar.month(y,m))"
   ]
  },
  {
   "cell_type": "markdown",
   "id": "a3ea95ea",
   "metadata": {},
   "source": [
    "## Q.4 Write a python program to solve quadratic equation?\n",
    "### Ans:"
   ]
  },
  {
   "cell_type": "code",
   "execution_count": null,
   "id": "095cb90a",
   "metadata": {},
   "outputs": [],
   "source": [
    "import cmath  \n",
    "a = float(input('Enter a: '))  \n",
    "b = float(input('Enter b: '))  \n",
    "c = float(input('Enter c: '))  \n",
    "  \n",
    " \n",
    "d = (b**2) - (4*a*c)  \n",
    "  \n",
    " \n",
    "sol1 = (-b-cmath.sqrt(d))/(2*a)  \n",
    "sol2 = (-b+cmath.sqrt(d))/(2*a)  \n",
    "print(f'The solution are {sol1} and {sol2}')"
   ]
  },
  {
   "cell_type": "markdown",
   "id": "544460ae",
   "metadata": {},
   "source": [
    "## Q.5 Write a python program to swap two variable without using temp variable?\n",
    "### Ans:"
   ]
  },
  {
   "cell_type": "code",
   "execution_count": null,
   "id": "d62d3a70",
   "metadata": {},
   "outputs": [],
   "source": [
    "A = 23\n",
    "B = 42\n",
    "\n",
    "print(f\"Value of A = {A} and B = {B} before swap..\")\n",
    "A,B = B,A\n",
    "print(\"\\nSwapping is done..\")\n",
    "print(f\"\\nValue of A = {A} and B = {B} after swap..\")"
   ]
  }
 ],
 "metadata": {
  "kernelspec": {
   "display_name": "Python 3",
   "language": "python",
   "name": "python3"
  },
  "language_info": {
   "codemirror_mode": {
    "name": "ipython",
    "version": 3
   },
   "file_extension": ".py",
   "mimetype": "text/x-python",
   "name": "python",
   "nbconvert_exporter": "python",
   "pygments_lexer": "ipython3",
   "version": "3.7.9"
  }
 },
 "nbformat": 4,
 "nbformat_minor": 5
}
